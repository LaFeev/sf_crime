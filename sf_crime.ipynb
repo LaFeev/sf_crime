{
 "cells": [
  {
   "cell_type": "code",
   "execution_count": 1,
   "id": "c0e89313",
   "metadata": {},
   "outputs": [],
   "source": [
    "import utils.utils as utils\n",
    "import os"
   ]
  },
  {
   "cell_type": "code",
   "execution_count": 2,
   "id": "db4ed7db",
   "metadata": {},
   "outputs": [
    {
     "name": "stdout",
     "output_type": "stream",
     "text": [
      "total 467140\r\n",
      "-rwxrwxrwx 1 lemming lemming 233412777 Sep 20 22:03 Police_Department_Incident_Reports__2018_to_Present.csv\r\n",
      "-rwxrwxrwx 1 lemming lemming  81348838 Sep 21 15:58 full_data_1.csv\r\n",
      "-rwxrwxrwx 1 lemming lemming  81791104 Sep 21 15:59 full_data_2.csv\r\n",
      "-rwxrwxrwx 1 lemming lemming  81792526 Sep 21 15:59 full_data_3.csv\r\n"
     ]
    }
   ],
   "source": [
    "path_to_data = os.getcwd() + \"/data/\"\n",
    "# show current contents of data folder\n",
    "! ls -l ./data/"
   ]
  },
  {
   "cell_type": "code",
   "execution_count": 3,
   "id": "4b53d3d7",
   "metadata": {},
   "outputs": [
    {
     "name": "stdout",
     "output_type": "stream",
     "text": [
      "heyo\n",
      "Police_Department_Incident_Reports__2018_to_Present.csv  full_data_2.csv\r\n",
      "full_data_1.csv\t\t\t\t\t\t full_data_3.csv\r\n"
     ]
    }
   ],
   "source": [
    "utils.get_dataset(path_to_data)\n",
    "# show new contents of data folder\n",
    "! ls -l ./data/"
   ]
  }
 ],
 "metadata": {
  "kernelspec": {
   "display_name": "Python 3 (ipykernel)",
   "language": "python",
   "name": "python3"
  },
  "language_info": {
   "codemirror_mode": {
    "name": "ipython",
    "version": 3
   },
   "file_extension": ".py",
   "mimetype": "text/x-python",
   "name": "python",
   "nbconvert_exporter": "python",
   "pygments_lexer": "ipython3",
   "version": "3.9.13"
  }
 },
 "nbformat": 4,
 "nbformat_minor": 5
}
