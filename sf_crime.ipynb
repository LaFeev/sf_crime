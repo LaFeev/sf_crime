{
 "cells": [
  {
   "cell_type": "code",
   "execution_count": 1,
   "id": "c0e89313",
   "metadata": {},
   "outputs": [],
   "source": [
    "import utils.utils as utils\n",
    "import os\n",
    "import pandas as pd"
   ]
  },
  {
   "cell_type": "code",
   "execution_count": 2,
   "id": "db4ed7db",
   "metadata": {},
   "outputs": [
    {
     "name": "stdout",
     "output_type": "stream",
     "text": [
      "total 211308\r\n",
      "-rwxrwxrwx 1 lemming lemming 216379327 Sep 29 14:28 Police_Department_Incident_Reports__2018_to_Present.csv\r\n",
      "-rwxrwxrwx 1 lemming lemming       451 Sep 29 13:41 remove_cols.dat\r\n"
     ]
    }
   ],
   "source": [
    "path_to_data = os.getcwd() + \"/data/\"\n",
    "# show current contents of data folder\n",
    "! ls -l ./data/"
   ]
  },
  {
   "cell_type": "code",
   "execution_count": 3,
   "id": "4b53d3d7",
   "metadata": {},
   "outputs": [
    {
     "name": "stdout",
     "output_type": "stream",
     "text": [
      "CPU times: user 1.51 s, sys: 114 ms, total: 1.62 s\n",
      "Wall time: 2.21 s\n"
     ]
    },
    {
     "data": {
      "text/plain": [
       "(643683, 13)"
      ]
     },
     "execution_count": 3,
     "metadata": {},
     "output_type": "execute_result"
    }
   ],
   "source": [
    "%%time\n",
    "# Read in data file. If the data file is not present, attempt to curl from sfgov.org\n",
    "#  (file is >230MB, so downloading can take ~5 minutes +/-)\n",
    "# Also drop unneeded columns in the process (see utils/utils.py for details)\n",
    "sf_crime = utils.get_dataset(path_to_data)\n",
    "sf_crime.shape"
   ]
  },
  {
   "cell_type": "code",
   "execution_count": 4,
   "id": "27db2192",
   "metadata": {},
   "outputs": [
    {
     "name": "stdout",
     "output_type": "stream",
     "text": [
      "<class 'pandas.core.frame.DataFrame'>\n",
      "RangeIndex: 643683 entries, 0 to 643682\n",
      "Data columns (total 13 columns):\n",
      " #   Column                   Non-Null Count   Dtype  \n",
      "---  ------                   --------------   -----  \n",
      " 0   Incident Datetime        643683 non-null  object \n",
      " 1   Report Datetime          643683 non-null  object \n",
      " 2   Report Type Code         643683 non-null  object \n",
      " 3   Report Type Description  643683 non-null  object \n",
      " 4   Filed Online             129475 non-null  object \n",
      " 5   Incident Code            643683 non-null  int64  \n",
      " 6   Incident Category        643133 non-null  object \n",
      " 7   Incident Subcategory     643133 non-null  object \n",
      " 8   Incident Description     643683 non-null  object \n",
      " 9   Resolution               643683 non-null  object \n",
      " 10  Police District          643683 non-null  object \n",
      " 11  Latitude                 609684 non-null  float64\n",
      " 12  Longitude                609684 non-null  float64\n",
      "dtypes: float64(2), int64(1), object(10)\n",
      "memory usage: 63.8+ MB\n"
     ]
    }
   ],
   "source": [
    "sf_crime.info()"
   ]
  },
  {
   "cell_type": "code",
   "execution_count": 4,
   "id": "ee7fd4cc",
   "metadata": {},
   "outputs": [
    {
     "name": "stdout",
     "output_type": "stream",
     "text": [
      "<class 'pandas.core.frame.DataFrame'>\n",
      "Int64Index: 640072 entries, 0 to 213405\n",
      "Data columns (total 35 columns):\n",
      " #   Column                                                Non-Null Count   Dtype  \n",
      "---  ------                                                --------------   -----  \n",
      " 0   Unnamed: 0                                            640072 non-null  int64  \n",
      " 1   Incident Datetime                                     640072 non-null  object \n",
      " 2   Incident Date                                         640072 non-null  object \n",
      " 3   Incident Time                                         640072 non-null  object \n",
      " 4   Incident Year                                         640072 non-null  int64  \n",
      " 5   Incident Day of Week                                  640072 non-null  object \n",
      " 6   Report Datetime                                       640072 non-null  object \n",
      " 7   Row ID                                                640072 non-null  int64  \n",
      " 8   Incident ID                                           640072 non-null  int64  \n",
      " 9   Incident Number                                       640072 non-null  int64  \n",
      " 10  CAD Number                                            497501 non-null  float64\n",
      " 11  Report Type Code                                      640072 non-null  object \n",
      " 12  Report Type Description                               640072 non-null  object \n",
      " 13  Filed Online                                          128823 non-null  object \n",
      " 14  Incident Code                                         640072 non-null  int64  \n",
      " 15  Incident Category                                     639523 non-null  object \n",
      " 16  Incident Subcategory                                  639523 non-null  object \n",
      " 17  Incident Description                                  640072 non-null  object \n",
      " 18  Resolution                                            640072 non-null  object \n",
      " 19  Intersection                                          606242 non-null  object \n",
      " 20  CNN                                                   606242 non-null  float64\n",
      " 21  Police District                                       640072 non-null  object \n",
      " 22  Analysis Neighborhood                                 606120 non-null  object \n",
      " 23  Supervisor District                                   606242 non-null  float64\n",
      " 24  Latitude                                              606242 non-null  float64\n",
      " 25  Longitude                                             606242 non-null  float64\n",
      " 26  Point                                                 606242 non-null  object \n",
      " 27  Neighborhoods                                         593272 non-null  float64\n",
      " 28  ESNCAG - Boundary File                                7049 non-null    float64\n",
      " 29  Central Market/Tenderloin Boundary Polygon - Updated  81963 non-null   float64\n",
      " 30  Civic Center Harm Reduction Project Boundary          81776 non-null   float64\n",
      " 31  HSOC Zones as of 2018-06-05                           134504 non-null  float64\n",
      " 32  Invest In Neighborhoods (IIN) Areas                   0 non-null       float64\n",
      " 33  Current Supervisor Districts                          606137 non-null  float64\n",
      " 34  Current Police Districts                              605514 non-null  float64\n",
      "dtypes: float64(13), int64(6), object(16)\n",
      "memory usage: 175.8+ MB\n"
     ]
    }
   ],
   "source": [
    "# this cell should be irrelevant now, just left it for comparison with above (David can delete)\n",
    "\n",
    "sf_crime = pd.concat(map(pd.read_csv, ['data/full_data_1.csv', 'data/full_data_2.csv', 'data/full_data_3.csv']))\n",
    "sf_crime.describe()\n",
    "sf_crime.info()"
   ]
  },
  {
   "cell_type": "code",
   "execution_count": 5,
   "id": "dd99d248",
   "metadata": {},
   "outputs": [
    {
     "name": "stdout",
     "output_type": "stream",
     "text": [
      "<class 'pandas.core.frame.DataFrame'>\n",
      "Int64Index: 640072 entries, 0 to 213405\n",
      "Data columns (total 35 columns):\n",
      " #   Column                                                Non-Null Count   Dtype         \n",
      "---  ------                                                --------------   -----         \n",
      " 0   Unnamed:_0                                            640072 non-null  int64         \n",
      " 1   Incident_Datetime                                     640072 non-null  datetime64[ns]\n",
      " 2   Incident_Date                                         640072 non-null  object        \n",
      " 3   Incident_Time                                         640072 non-null  object        \n",
      " 4   Incident_Year                                         640072 non-null  int64         \n",
      " 5   Incident_Day_of_Week                                  640072 non-null  object        \n",
      " 6   Report_Datetime                                       640072 non-null  datetime64[ns]\n",
      " 7   Row_ID                                                640072 non-null  int64         \n",
      " 8   Incident_ID                                           640072 non-null  int64         \n",
      " 9   Incident_Number                                       640072 non-null  int64         \n",
      " 10  CAD_Number                                            497501 non-null  float64       \n",
      " 11  Report_Type_Code                                      640072 non-null  object        \n",
      " 12  Report_Type_Description                               640072 non-null  object        \n",
      " 13  Filed_Online                                          128823 non-null  object        \n",
      " 14  Incident_Code                                         640072 non-null  int64         \n",
      " 15  Incident_Category                                     639523 non-null  object        \n",
      " 16  Incident_Subcategory                                  639523 non-null  object        \n",
      " 17  Incident_Description                                  640072 non-null  object        \n",
      " 18  Resolution                                            640072 non-null  object        \n",
      " 19  Intersection                                          606242 non-null  object        \n",
      " 20  CNN                                                   606242 non-null  float64       \n",
      " 21  Police_District                                       640072 non-null  object        \n",
      " 22  Analysis_Neighborhood                                 606120 non-null  object        \n",
      " 23  Supervisor_District                                   606242 non-null  float64       \n",
      " 24  Latitude                                              606242 non-null  float64       \n",
      " 25  Longitude                                             606242 non-null  float64       \n",
      " 26  Point                                                 606242 non-null  object        \n",
      " 27  Neighborhoods                                         593272 non-null  float64       \n",
      " 28  ESNCAG_-_Boundary_File                                7049 non-null    float64       \n",
      " 29  Central_Market/Tenderloin_Boundary_Polygon_-_Updated  81963 non-null   float64       \n",
      " 30  Civic_Center_Harm_Reduction_Project_Boundary          81776 non-null   float64       \n",
      " 31  HSOC_Zones_as_of_2018-06-05                           134504 non-null  float64       \n",
      " 32  Invest_In_Neighborhoods_(IIN)_Areas                   0 non-null       float64       \n",
      " 33  Current_Supervisor_Districts                          606137 non-null  float64       \n",
      " 34  Current_Police_Districts                              605514 non-null  float64       \n",
      "dtypes: datetime64[ns](2), float64(13), int64(6), object(14)\n",
      "memory usage: 175.8+ MB\n"
     ]
    }
   ],
   "source": [
    "sf_crime.columns = [c.replace(' ', '_') for c in sf_crime.columns]\n",
    "sf_crime['Incident_Datetime'] = sf_crime['Incident_Datetime'].astype('datetime64[ns]')\n",
    "sf_crime['Report_Datetime'] = sf_crime['Report_Datetime'].astype('datetime64[ns]')\n",
    "sf_crime.info()\n",
    "# Remove 2-5 (redundant)\n",
    "# 7-10 probably uninteresting\n",
    "# 19-20 Prefer using lat/long\n",
    "# 22-23 Not sure what they reference\n",
    "# 26 Redundant use lat/long\n",
    "# 27-34 Too much of a mess"
   ]
  },
  {
   "cell_type": "code",
   "execution_count": 6,
   "id": "fd9e6ee3",
   "metadata": {
    "scrolled": true
   },
   "outputs": [
    {
     "name": "stdout",
     "output_type": "stream",
     "text": [
      "0        2021-07-25 00:00:00\n",
      "1        2022-06-28 23:58:00\n",
      "2        2022-03-11 10:30:00\n",
      "3        2021-05-15 17:47:00\n",
      "4        2022-06-28 17:22:00\n",
      "                 ...        \n",
      "213401   2022-09-19 01:30:00\n",
      "213402   2022-09-19 19:50:00\n",
      "213403   2022-09-19 09:00:00\n",
      "213404   2022-09-19 09:56:00\n",
      "213405   2022-09-19 09:05:00\n",
      "Name: Incident_Datetime, Length: 640072, dtype: datetime64[ns]\n"
     ]
    }
   ],
   "source": [
    "print(sf_crime.Incident_Datetime)"
   ]
  },
  {
   "cell_type": "markdown",
   "id": "6dd40f3f",
   "metadata": {},
   "source": [
    "# Possible features\n",
    "\n",
    "- Use API to get updated data\n",
    "- functions to seperate and display data based on type of crime\n",
    "- comparisons by crime type\n",
    "- Time series analysis (Justin)\n",
    "- delta between incident and report (David)\n",
    "- geospatial representations (Aaron)"
   ]
  }
 ],
 "metadata": {
  "kernelspec": {
   "display_name": "Python 3 (ipykernel)",
   "language": "python",
   "name": "python3"
  },
  "language_info": {
   "codemirror_mode": {
    "name": "ipython",
    "version": 3
   },
   "file_extension": ".py",
   "mimetype": "text/x-python",
   "name": "python",
   "nbconvert_exporter": "python",
   "pygments_lexer": "ipython3",
   "version": "3.9.13"
  },
  "vscode": {
   "interpreter": {
    "hash": "916dbcbb3f70747c44a77c7bcd40155683ae19c65e1c03b4aa3499c5328201f1"
   }
  }
 },
 "nbformat": 4,
 "nbformat_minor": 5
}
