{
 "cells": [
  {
   "cell_type": "code",
   "execution_count": 7,
   "id": "c0e89313",
   "metadata": {},
   "outputs": [],
   "source": [
    "import utils.utils as utils\n",
    "import os\n",
    "import pandas as pd\n",
    "import matplotlib.pyplot as plt"
   ]
  },
  {
   "cell_type": "code",
   "execution_count": 9,
   "id": "db4ed7db",
   "metadata": {},
   "outputs": [
    {
     "name": "stdout",
     "output_type": "stream",
     "text": [
      "total 491784\r\n",
      "-rw-r--r--  1 justinuppal  staff  242661014 Oct  4 20:38 Police_Department_Incident_Reports__2018_to_Present.csv\r\n",
      "-rw-r--r--  1 justinuppal  staff        451 Oct  4 20:35 remove_cols.dat\r\n"
     ]
    }
   ],
   "source": [
    "path_to_data = os.getcwd() + \"/data/\"\n",
    "# show current contents of data folder\n",
    "! ls -l ./data/"
   ]
  },
  {
   "cell_type": "code",
   "execution_count": 11,
   "id": "4b53d3d7",
   "metadata": {},
   "outputs": [
    {
     "name": "stdout",
     "output_type": "stream",
     "text": [
      "CPU times: user 1.79 s, sys: 206 ms, total: 1.99 s\n",
      "Wall time: 2.1 s\n"
     ]
    },
    {
     "data": {
      "text/plain": [
       "(645624, 13)"
      ]
     },
     "execution_count": 11,
     "metadata": {},
     "output_type": "execute_result"
    }
   ],
   "source": [
    "%%time\n",
    "# Read in data file. If the data file is not present, attempt to curl from sfgov.org\n",
    "#  (file is >230MB, so downloading can take ~5 minutes +/-)\n",
    "# Also drop unneeded columns in the process (see utils/utils.py for details)\n",
    "sf_crime = utils.get_dataset(path_to_data)\n",
    "sf_crime.shape"
   ]
  },
  {
   "cell_type": "code",
   "execution_count": 13,
   "id": "27db2192",
   "metadata": {},
   "outputs": [
    {
     "name": "stdout",
     "output_type": "stream",
     "text": [
      "<class 'pandas.core.frame.DataFrame'>\n",
      "RangeIndex: 645624 entries, 0 to 645623\n",
      "Data columns (total 13 columns):\n",
      " #   Column                   Non-Null Count   Dtype  \n",
      "---  ------                   --------------   -----  \n",
      " 0   Incident Datetime        645624 non-null  object \n",
      " 1   Report Datetime          645624 non-null  object \n",
      " 2   Report Type Code         645624 non-null  object \n",
      " 3   Report Type Description  645624 non-null  object \n",
      " 4   Filed Online             129793 non-null  object \n",
      " 5   Incident Code            645624 non-null  int64  \n",
      " 6   Incident Category        645072 non-null  object \n",
      " 7   Incident Subcategory     645072 non-null  object \n",
      " 8   Incident Description     645624 non-null  object \n",
      " 9   Resolution               645624 non-null  object \n",
      " 10  Police District          645624 non-null  object \n",
      " 11  Latitude                 611538 non-null  float64\n",
      " 12  Longitude                611538 non-null  float64\n",
      "dtypes: float64(2), int64(1), object(10)\n",
      "memory usage: 64.0+ MB\n"
     ]
    }
   ],
   "source": [
    "sf_crime.info()"
   ]
  },
  {
   "cell_type": "code",
   "execution_count": 15,
   "id": "dd99d248",
   "metadata": {},
   "outputs": [
    {
     "name": "stdout",
     "output_type": "stream",
     "text": [
      "<class 'pandas.core.frame.DataFrame'>\n",
      "RangeIndex: 645624 entries, 0 to 645623\n",
      "Data columns (total 13 columns):\n",
      " #   Column                   Non-Null Count   Dtype         \n",
      "---  ------                   --------------   -----         \n",
      " 0   Incident_Datetime        645624 non-null  datetime64[ns]\n",
      " 1   Report_Datetime          645624 non-null  datetime64[ns]\n",
      " 2   Report_Type_Code         645624 non-null  object        \n",
      " 3   Report_Type_Description  645624 non-null  object        \n",
      " 4   Filed_Online             129793 non-null  object        \n",
      " 5   Incident_Code            645624 non-null  int64         \n",
      " 6   Incident_Category        645072 non-null  object        \n",
      " 7   Incident_Subcategory     645072 non-null  object        \n",
      " 8   Incident_Description     645624 non-null  object        \n",
      " 9   Resolution               645624 non-null  object        \n",
      " 10  Police_District          645624 non-null  object        \n",
      " 11  Latitude                 611538 non-null  float64       \n",
      " 12  Longitude                611538 non-null  float64       \n",
      "dtypes: datetime64[ns](2), float64(2), int64(1), object(8)\n",
      "memory usage: 64.0+ MB\n"
     ]
    }
   ],
   "source": [
    "\n",
    "\n",
    "sf_crime.columns = [c.replace(' ', '_') for c in sf_crime.columns]\n",
    "sf_crime['Incident_Datetime'] = sf_crime['Incident_Datetime'].astype('datetime64[ns]')\n",
    "sf_crime['Report_Datetime'] = sf_crime['Report_Datetime'].astype('datetime64[ns]')\n",
    "#sf_crime['Report_Type_Code'] = sf_crime['Report_Type_Code'].astype('object')\n",
    "#sf_crime['Report_Type_Description'] = sf_crime['Report_Type_Description'].astype('object')\n",
    "#sf_crime['Filed_Online'] = sf_crime['Filed_Online'].astype('object')\n",
    "#sf_crime['Incident_Code'] = sf_crime['Incident_Code'].astype('int64')\n",
    "#sf_crime['Incident_Category'] = sf_crime['Incident_Category'].astype('object')\n",
    "#sf_crime['Incident_Subcategory'] = sf_crime['Incident_Subcategory'].astype('object')\n",
    "#sf_crime['Incident_Description'] = sf_crime['Incident_Description'].astype('object')\n",
    "#sf_crime['Resolution'] = sf_crime['Resolution'].astype('object')\n",
    "#sf_crime['Police_District'] = sf_crime['Police_District'].astype('object')\n",
    "#sf_crime['Latitude'] = sf_crime['Latitude'].astype('float64')\n",
    "#sf_crime['Longitude'] = sf_crime['Longitude'].astype('float64')\n",
    "sf_crime.info()"
   ]
  },
  {
   "cell_type": "code",
   "execution_count": 17,
   "id": "fd9e6ee3",
   "metadata": {
    "scrolled": true
   },
   "outputs": [
    {
     "data": {
      "image/png": "[encoded data removed]",
      "text/plain": [
       "<Figure size 432x288 with 1 Axes>"
      ]
     },
     "metadata": {
      "needs_background": "light"
     },
     "output_type": "display_data"
    }
   ],
   "source": [
    "%matplotlib inline\n",
    "from numpy import maximum\n",
    "\n",
    "sf_crime['Report_Delta'] = sf_crime['Report_Datetime'] - sf_crime['Incident_Datetime']\n",
    "#print(max(sf_crime.Report_Delta/ pd.Timedelta(days=1)))\n",
    "(sf_crime.Report_Delta / pd.Timedelta(days=1)).hist(bins=range(0, 30, 1))\n",
    "plt.title('Incident to Report Delta')\n",
    "plt.xlabel('Time between Incident and Report (Days)')\n",
    "plt.ylabel('Frequency');"
   ]
  },
  {
   "cell_type": "code",
   "execution_count": 19,
   "id": "021a2b7b",
   "metadata": {},
   "outputs": [],
   "source": [
    "#test"
   ]
  },
  {
   "cell_type": "markdown",
   "id": "6dd40f3f",
   "metadata": {},
   "source": [
    "# Possible features\n",
    "\n",
    "- Use API to get updated data\n",
    "- functions to seperate and display data based on type of crime\n",
    "- comparisons by crime type\n",
    "- Time series analysis (Justin)\n",
    "- delta between incident and report (David)\n",
    "- geospatial representations (Aaron)"
   ]
  }
 ],
 "metadata": {
  "kernelspec": {
   "display_name": "Python 3 (ipykernel)",
   "language": "python",
   "name": "python3"
  },
  "language_info": {
   "codemirror_mode": {
    "name": "ipython",
    "version": 3
   },
   "file_extension": ".py",
   "mimetype": "text/x-python",
   "name": "python",
   "nbconvert_exporter": "python",
   "pygments_lexer": "ipython3",
   "version": "3.10.6"
  },
  "vscode": {
   "interpreter": {
    "hash": "916dbcbb3f70747c44a77c7bcd40155683ae19c65e1c03b4aa3499c5328201f1"
   }
  }
 },
 "nbformat": 4,
 "nbformat_minor": 5
}
