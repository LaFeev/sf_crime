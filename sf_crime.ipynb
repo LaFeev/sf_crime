{
 "cells": [
  {
   "cell_type": "code",
   "execution_count": 47,
   "id": "c0e89313",
   "metadata": {},
   "outputs": [],
   "source": [
    "import utils.utils as utils\n",
    "import os\n",
    "import pandas as pd"
   ]
  },
  {
   "cell_type": "code",
   "execution_count": 48,
   "id": "db4ed7db",
   "metadata": {},
   "outputs": [
    {
     "name": "stdout",
     "output_type": "stream",
     "text": [
      "total 236416\n",
      "-rw-r--r-- 1 david david 242081793 Sep 30 15:46 Police_Department_Incident_Reports__2018_to_Present.csv\n",
      "-rw-r--r-- 1 david david       451 Sep 30 15:43 remove_cols.dat\n"
     ]
    }
   ],
   "source": [
    "path_to_data = os.getcwd() + \"/data/\"\n",
    "# show current contents of data folder\n",
    "! ls -l ./data/"
   ]
  },
  {
   "cell_type": "code",
   "execution_count": 49,
   "id": "4b53d3d7",
   "metadata": {},
   "outputs": [
    {
     "name": "stdout",
     "output_type": "stream",
     "text": [
      "CPU times: user 3.71 s, sys: 280 ms, total: 3.99 s\n",
      "Wall time: 3.99 s\n"
     ]
    },
    {
     "data": {
      "text/plain": [
       "(644088, 13)"
      ]
     },
     "execution_count": 49,
     "metadata": {},
     "output_type": "execute_result"
    }
   ],
   "source": [
    "%%time\n",
    "# Read in data file. If the data file is not present, attempt to curl from sfgov.org\n",
    "#  (file is >230MB, so downloading can take ~5 minutes +/-)\n",
    "# Also drop unneeded columns in the process (see utils/utils.py for details)\n",
    "sf_crime = utils.get_dataset(path_to_data)\n",
    "sf_crime.shape"
   ]
  },
  {
   "cell_type": "code",
   "execution_count": 50,
   "id": "27db2192",
   "metadata": {},
   "outputs": [
    {
     "name": "stdout",
     "output_type": "stream",
     "text": [
      "<class 'pandas.core.frame.DataFrame'>\n",
      "RangeIndex: 644088 entries, 0 to 644087\n",
      "Data columns (total 13 columns):\n",
      " #   Column                   Non-Null Count   Dtype  \n",
      "---  ------                   --------------   -----  \n",
      " 0   Incident Datetime        644088 non-null  object \n",
      " 1   Report Datetime          644088 non-null  object \n",
      " 2   Report Type Code         644088 non-null  object \n",
      " 3   Report Type Description  644088 non-null  object \n",
      " 4   Filed Online             129519 non-null  object \n",
      " 5   Incident Code            644088 non-null  int64  \n",
      " 6   Incident Category        643538 non-null  object \n",
      " 7   Incident Subcategory     643538 non-null  object \n",
      " 8   Incident Description     644088 non-null  object \n",
      " 9   Resolution               644088 non-null  object \n",
      " 10  Police District          644088 non-null  object \n",
      " 11  Latitude                 610079 non-null  float64\n",
      " 12  Longitude                610079 non-null  float64\n",
      "dtypes: float64(2), int64(1), object(10)\n",
      "memory usage: 63.9+ MB\n"
     ]
    }
   ],
   "source": [
    "sf_crime.info()"
   ]
  },
  {
   "cell_type": "code",
   "execution_count": 51,
   "id": "dd99d248",
   "metadata": {},
   "outputs": [
    {
     "name": "stdout",
     "output_type": "stream",
     "text": [
      "<class 'pandas.core.frame.DataFrame'>\n",
      "RangeIndex: 644088 entries, 0 to 644087\n",
      "Data columns (total 13 columns):\n",
      " #   Column                   Non-Null Count   Dtype         \n",
      "---  ------                   --------------   -----         \n",
      " 0   Incident_Datetime        644088 non-null  datetime64[ns]\n",
      " 1   Report_Datetime          644088 non-null  datetime64[ns]\n",
      " 2   Report_Type_Code         644088 non-null  object        \n",
      " 3   Report_Type_Description  644088 non-null  object        \n",
      " 4   Filed_Online             129519 non-null  object        \n",
      " 5   Incident_Code            644088 non-null  int64         \n",
      " 6   Incident_Category        643538 non-null  object        \n",
      " 7   Incident_Subcategory     643538 non-null  object        \n",
      " 8   Incident_Description     644088 non-null  object        \n",
      " 9   Resolution               644088 non-null  object        \n",
      " 10  Police_District          644088 non-null  object        \n",
      " 11  Latitude                 610079 non-null  float64       \n",
      " 12  Longitude                610079 non-null  float64       \n",
      "dtypes: datetime64[ns](2), float64(2), int64(1), object(8)\n",
      "memory usage: 63.9+ MB\n"
     ]
    }
   ],
   "source": [
    "\n",
    "\n",
    "sf_crime.columns = [c.replace(' ', '_') for c in sf_crime.columns]\n",
    "sf_crime['Incident_Datetime'] = sf_crime['Incident_Datetime'].astype('datetime64[ns]')\n",
    "sf_crime['Report_Datetime'] = sf_crime['Report_Datetime'].astype('datetime64[ns]')\n",
    "#sf_crime['Report_Type_Code'] = sf_crime['Report_Type_Code'].astype('object')\n",
    "#sf_crime['Report_Type_Description'] = sf_crime['Report_Type_Description'].astype('object')\n",
    "#sf_crime['Filed_Online'] = sf_crime['Filed_Online'].astype('object')\n",
    "#sf_crime['Incident_Code'] = sf_crime['Incident_Code'].astype('int64')\n",
    "#sf_crime['Incident_Category'] = sf_crime['Incident_Category'].astype('object')\n",
    "#sf_crime['Incident_Subcategory'] = sf_crime['Incident_Subcategory'].astype('object')\n",
    "#sf_crime['Incident_Description'] = sf_crime['Incident_Description'].astype('object')\n",
    "#sf_crime['Resolution'] = sf_crime['Resolution'].astype('object')\n",
    "#sf_crime['Police_District'] = sf_crime['Police_District'].astype('object')\n",
    "#sf_crime['Latitude'] = sf_crime['Latitude'].astype('float64')\n",
    "#sf_crime['Longitude'] = sf_crime['Longitude'].astype('float64')\n",
    "sf_crime.info()"
   ]
  },
  {
   "cell_type": "code",
   "execution_count": 52,
   "id": "fd9e6ee3",
   "metadata": {
    "scrolled": true
   },
   "outputs": [
    {
     "name": "stdout",
     "output_type": "stream",
     "text": [
      "0        2021-07-25 00:00:00\n",
      "1        2022-06-28 23:58:00\n",
      "2        2022-03-11 10:30:00\n",
      "3        2021-05-15 17:47:00\n",
      "4        2022-06-28 17:22:00\n",
      "                 ...        \n",
      "644083   2021-10-01 14:00:00\n",
      "644084   2022-09-29 16:21:00\n",
      "644085   2022-09-29 05:30:00\n",
      "644086   2022-09-29 17:30:00\n",
      "644087   2022-09-29 11:50:00\n",
      "Name: Incident_Datetime, Length: 644088, dtype: datetime64[ns]\n"
     ]
    }
   ],
   "source": [
    "print(sf_crime.Incident_Datetime)"
   ]
  },
  {
   "cell_type": "markdown",
   "id": "6dd40f3f",
   "metadata": {},
   "source": [
    "# Possible features\n",
    "\n",
    "- Use API to get updated data\n",
    "- functions to seperate and display data based on type of crime\n",
    "- comparisons by crime type\n",
    "- Time series analysis (Justin)\n",
    "- delta between incident and report (David)\n",
    "- geospatial representations (Aaron)"
   ]
  }
 ],
 "metadata": {
  "kernelspec": {
   "display_name": "Python 3 (ipykernel)",
   "language": "python",
   "name": "python3"
  },
  "language_info": {
   "codemirror_mode": {
    "name": "ipython",
    "version": 3
   },
   "file_extension": ".py",
   "mimetype": "text/x-python",
   "name": "python",
   "nbconvert_exporter": "python",
   "pygments_lexer": "ipython3",
   "version": "3.9.13"
  },
  "vscode": {
   "interpreter": {
    "hash": "916dbcbb3f70747c44a77c7bcd40155683ae19c65e1c03b4aa3499c5328201f1"
   }
  }
 },
 "nbformat": 4,
 "nbformat_minor": 5
}
